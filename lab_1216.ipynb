{
 "cells": [
  {
   "cell_type": "code",
   "execution_count": 19,
   "metadata": {},
   "outputs": [],
   "source": [
    "class Character:\n",
    "    def __init__(self):\n",
    "        self.health=100\n",
    "    def move(self):\n",
    "        self.health-=10\n",
    "    def checkHealth(self):\n",
    "        print(self.health)\n",
    "    \n",
    "class Knight(Character):\n",
    "    def __init__(self):\n",
    "        super().__init__()\n",
    "    def move(self):\n",
    "        super().move()\n",
    "        self.health-=5\n",
    "    "
   ]
  },
  {
   "cell_type": "code",
   "execution_count": 20,
   "metadata": {},
   "outputs": [
    {
     "name": "stdout",
     "output_type": "stream",
     "text": [
      "100\n",
      "85\n"
     ]
    }
   ],
   "source": [
    "kn = Knight()\n",
    "kn.checkHealth()\n",
    "kn.move()\n",
    "kn.checkHealth()"
   ]
  },
  {
   "cell_type": "code",
   "execution_count": 21,
   "metadata": {},
   "outputs": [],
   "source": [
    "ary =[[[1, 2, 3, 3], [2, 3, 4, 5], [1, 2, 3, 6]], [[1, 2, 3, 3], [2, 3, 4, 5], [1, 2, 3, 6]]]"
   ]
  },
  {
   "cell_type": "code",
   "execution_count": 22,
   "metadata": {},
   "outputs": [
    {
     "data": {
      "text/plain": [
       "(2, 3, 4)"
      ]
     },
     "execution_count": 22,
     "metadata": {},
     "output_type": "execute_result"
    }
   ],
   "source": [
    "import numpy as np\n",
    "np.shape(ary)"
   ]
  },
  {
   "cell_type": "code",
   "execution_count": 23,
   "metadata": {},
   "outputs": [
    {
     "data": {
      "text/plain": [
       "(2, 3)"
      ]
     },
     "execution_count": 23,
     "metadata": {},
     "output_type": "execute_result"
    }
   ],
   "source": [
    "mat = [[1,2,3],[2,3,3]]\n",
    "np.shape(mat)"
   ]
  },
  {
   "cell_type": "code",
   "execution_count": 26,
   "metadata": {},
   "outputs": [
    {
     "data": {
      "text/plain": [
       "5"
      ]
     },
     "execution_count": 26,
     "metadata": {},
     "output_type": "execute_result"
    }
   ],
   "source": [
    "np.random.randint(1,10)"
   ]
  },
  {
   "cell_type": "code",
   "execution_count": 27,
   "metadata": {},
   "outputs": [
    {
     "data": {
      "text/plain": [
       "array([[ 0,  1,  2,  3],\n",
       "       [ 4,  5,  6,  7],\n",
       "       [ 8,  9, 10, 11],\n",
       "       [12, 13, 14, 15]])"
      ]
     },
     "execution_count": 27,
     "metadata": {},
     "output_type": "execute_result"
    }
   ],
   "source": [
    "x = np.arange(16).reshape(4,4)\n",
    "x"
   ]
  },
  {
   "cell_type": "code",
   "execution_count": 31,
   "metadata": {},
   "outputs": [
    {
     "data": {
      "text/plain": [
       "[array([[0, 1, 2, 3]]),\n",
       " array([[4, 5, 6, 7]]),\n",
       " array([[ 8,  9, 10, 11]]),\n",
       " array([[12, 13, 14, 15]])]"
      ]
     },
     "execution_count": 31,
     "metadata": {},
     "output_type": "execute_result"
    }
   ],
   "source": [
    "np.split(x,4)"
   ]
  },
  {
   "cell_type": "markdown",
   "metadata": {},
   "source": [
    "### 실습1"
   ]
  },
  {
   "cell_type": "code",
   "execution_count": 36,
   "metadata": {},
   "outputs": [],
   "source": [
    "import numpy as np\n",
    "\n",
    "x = [i for i in range(1,10)]\n",
    "y = [i for i in range(10,100,10)]"
   ]
  },
  {
   "cell_type": "code",
   "execution_count": 38,
   "metadata": {},
   "outputs": [],
   "source": [
    "x = np.array(x)\n",
    "y = np.array(y)"
   ]
  },
  {
   "cell_type": "code",
   "execution_count": 45,
   "metadata": {},
   "outputs": [],
   "source": [
    "x=x.reshape(3,3)\n",
    "y=y.reshape(3,3)"
   ]
  },
  {
   "cell_type": "code",
   "execution_count": 48,
   "metadata": {},
   "outputs": [
    {
     "data": {
      "text/plain": [
       "array([[11, 22, 33],\n",
       "       [44, 55, 66],\n",
       "       [77, 88, 99]])"
      ]
     },
     "execution_count": 48,
     "metadata": {},
     "output_type": "execute_result"
    }
   ],
   "source": [
    "x+y"
   ]
  },
  {
   "cell_type": "code",
   "execution_count": 50,
   "metadata": {},
   "outputs": [
    {
     "data": {
      "text/plain": [
       "array([[ 300,  360,  420],\n",
       "       [ 660,  810,  960],\n",
       "       [1020, 1260, 1500]])"
      ]
     },
     "execution_count": 50,
     "metadata": {},
     "output_type": "execute_result"
    }
   ],
   "source": [
    "x.dot(y)"
   ]
  },
  {
   "cell_type": "markdown",
   "metadata": {},
   "source": [
    "### 실습2"
   ]
  },
  {
   "cell_type": "code",
   "execution_count": 51,
   "metadata": {},
   "outputs": [],
   "source": [
    "a = np.linspace(1,20,30)"
   ]
  },
  {
   "cell_type": "code",
   "execution_count": 52,
   "metadata": {},
   "outputs": [
    {
     "data": {
      "text/plain": [
       "array([ 1.        ,  1.65517241,  2.31034483,  2.96551724,  3.62068966,\n",
       "        4.27586207,  4.93103448,  5.5862069 ,  6.24137931,  6.89655172,\n",
       "        7.55172414,  8.20689655,  8.86206897,  9.51724138, 10.17241379,\n",
       "       10.82758621, 11.48275862, 12.13793103, 12.79310345, 13.44827586,\n",
       "       14.10344828, 14.75862069, 15.4137931 , 16.06896552, 16.72413793,\n",
       "       17.37931034, 18.03448276, 18.68965517, 19.34482759, 20.        ])"
      ]
     },
     "execution_count": 52,
     "metadata": {},
     "output_type": "execute_result"
    }
   ],
   "source": [
    "a"
   ]
  },
  {
   "cell_type": "code",
   "execution_count": 53,
   "metadata": {},
   "outputs": [
    {
     "data": {
      "text/plain": [
       "array([11.        , 11.65517241, 12.31034483, 12.96551724, 13.62068966,\n",
       "       14.27586207, 14.93103448, 15.5862069 , 16.24137931, 16.89655172,\n",
       "       17.55172414, 18.20689655, 18.86206897, 19.51724138, 20.17241379,\n",
       "       20.82758621, 21.48275862, 22.13793103, 22.79310345, 23.44827586,\n",
       "       24.10344828, 24.75862069, 25.4137931 , 26.06896552, 26.72413793,\n",
       "       27.37931034, 28.03448276, 28.68965517, 29.34482759, 30.        ])"
      ]
     },
     "execution_count": 53,
     "metadata": {},
     "output_type": "execute_result"
    }
   ],
   "source": [
    "a+10"
   ]
  },
  {
   "cell_type": "markdown",
   "metadata": {},
   "source": [
    "### 실습3"
   ]
  },
  {
   "cell_type": "code",
   "execution_count": 60,
   "metadata": {
    "scrolled": true
   },
   "outputs": [
    {
     "data": {
      "text/plain": [
       "array([[[59,  7, 17,  8, 84, 23, 43, 22, 10, 13],\n",
       "        [58, 73, 11, 67, 53,  2, 41, 66, 60, 23],\n",
       "        [75, 29,  8, 71, 36, 28, 36, 96, 58, 23],\n",
       "        [92, 14,  3, 34, 11, 79, 36, 47, 51, 40],\n",
       "        [66, 77, 30,  2,  3, 64, 33, 82,  5, 65],\n",
       "        [14, 23, 88, 29, 56, 41, 88, 11, 90, 93],\n",
       "        [68, 84, 78, 53, 19, 59,  4, 39, 62, 30],\n",
       "        [89, 82, 26, 66, 28, 77, 18, 33, 39, 70],\n",
       "        [ 1, 92, 73, 60, 60, 96, 62, 92, 94, 10],\n",
       "        [61, 76, 49, 34, 14, 30,  1, 26, 98, 19]],\n",
       "\n",
       "       [[29, 28, 41, 87, 34, 85, 54, 89,  8, 11],\n",
       "        [18, 54, 96, 27,  7, 27, 89, 98, 78, 71],\n",
       "        [ 7, 35, 64,  3, 31, 57, 63, 75, 51, 95],\n",
       "        [88, 95, 32, 75,  3, 20, 92, 68, 48,  8],\n",
       "        [65, 44, 75,  5, 74, 70, 22, 25, 61,  8],\n",
       "        [78, 98, 55, 76,  6, 37,  5, 80, 14, 66],\n",
       "        [41, 81, 32, 10, 43, 24,  7, 65, 67, 59],\n",
       "        [19, 76, 62, 83, 34, 85, 25,  4, 82, 98],\n",
       "        [96, 10, 69, 21, 88, 28, 49, 95, 46, 33],\n",
       "        [71, 74, 20, 42, 89,  9, 57, 41, 65, 97]]])"
      ]
     },
     "execution_count": 60,
     "metadata": {},
     "output_type": "execute_result"
    }
   ],
   "source": [
    "import random\n",
    "randoms = np.random.randint(1,100,size=(2,10,10))\n",
    "randoms"
   ]
  },
  {
   "cell_type": "code",
   "execution_count": 61,
   "metadata": {},
   "outputs": [
    {
     "data": {
      "text/plain": [
       "(2, 10, 10)"
      ]
     },
     "execution_count": 61,
     "metadata": {},
     "output_type": "execute_result"
    }
   ],
   "source": [
    "np.shape(randoms)"
   ]
  },
  {
   "cell_type": "code",
   "execution_count": 62,
   "metadata": {},
   "outputs": [],
   "source": [
    "randoms = np.where(randoms>=50,1,2)"
   ]
  },
  {
   "cell_type": "code",
   "execution_count": 63,
   "metadata": {},
   "outputs": [
    {
     "data": {
      "text/plain": [
       "array([[[1, 2, 2, 2, 1, 2, 2, 2, 2, 2],\n",
       "        [1, 1, 2, 1, 1, 2, 2, 1, 1, 2],\n",
       "        [1, 2, 2, 1, 2, 2, 2, 1, 1, 2],\n",
       "        [1, 2, 2, 2, 2, 1, 2, 2, 1, 2],\n",
       "        [1, 1, 2, 2, 2, 1, 2, 1, 2, 1],\n",
       "        [2, 2, 1, 2, 1, 2, 1, 2, 1, 1],\n",
       "        [1, 1, 1, 1, 2, 1, 2, 2, 1, 2],\n",
       "        [1, 1, 2, 1, 2, 1, 2, 2, 2, 1],\n",
       "        [2, 1, 1, 1, 1, 1, 1, 1, 1, 2],\n",
       "        [1, 1, 2, 2, 2, 2, 2, 2, 1, 2]],\n",
       "\n",
       "       [[2, 2, 2, 1, 2, 1, 1, 1, 2, 2],\n",
       "        [2, 1, 1, 2, 2, 2, 1, 1, 1, 1],\n",
       "        [2, 2, 1, 2, 2, 1, 1, 1, 1, 1],\n",
       "        [1, 1, 2, 1, 2, 2, 1, 1, 2, 2],\n",
       "        [1, 2, 1, 2, 1, 1, 2, 2, 1, 2],\n",
       "        [1, 1, 1, 1, 2, 2, 2, 1, 2, 1],\n",
       "        [2, 1, 2, 2, 2, 2, 2, 1, 1, 1],\n",
       "        [2, 1, 1, 1, 2, 1, 2, 2, 1, 1],\n",
       "        [1, 2, 1, 2, 1, 2, 2, 1, 2, 2],\n",
       "        [1, 1, 2, 2, 1, 2, 1, 2, 1, 1]]])"
      ]
     },
     "execution_count": 63,
     "metadata": {},
     "output_type": "execute_result"
    }
   ],
   "source": [
    "randoms"
   ]
  },
  {
   "cell_type": "code",
   "execution_count": 68,
   "metadata": {},
   "outputs": [
    {
     "data": {
      "text/plain": [
       "array([[[2, 2, 1, 2, 1],\n",
       "        [2, 2, 1, 1, 1],\n",
       "        [1, 2, 2, 1, 1],\n",
       "        [2, 2, 1, 2, 2],\n",
       "        [2, 1, 2, 1, 1]]])"
      ]
     },
     "execution_count": 68,
     "metadata": {},
     "output_type": "execute_result"
    }
   ],
   "source": [
    "randoms[1:2,5:10,5:10]"
   ]
  },
  {
   "cell_type": "markdown",
   "metadata": {},
   "source": [
    "# pandas"
   ]
  },
  {
   "cell_type": "code",
   "execution_count": 69,
   "metadata": {},
   "outputs": [],
   "source": [
    "import pandas as pd"
   ]
  },
  {
   "cell_type": "code",
   "execution_count": 70,
   "metadata": {},
   "outputs": [
    {
     "data": {
      "text/plain": [
       "0    1\n",
       "1    2\n",
       "2    3\n",
       "3    4\n",
       "4    5\n",
       "dtype: int64"
      ]
     },
     "execution_count": 70,
     "metadata": {},
     "output_type": "execute_result"
    }
   ],
   "source": [
    "x = [1,2,3,4,5]\n",
    "s = pd.Series(x)\n",
    "s"
   ]
  },
  {
   "cell_type": "code",
   "execution_count": 71,
   "metadata": {},
   "outputs": [
    {
     "name": "stdout",
     "output_type": "stream",
     "text": [
      "RangeIndex(start=0, stop=5, step=1)\n"
     ]
    }
   ],
   "source": [
    "print(s.index)"
   ]
  },
  {
   "cell_type": "code",
   "execution_count": 72,
   "metadata": {},
   "outputs": [
    {
     "data": {
      "text/plain": [
       "array([1, 2, 3, 4, 5], dtype=int64)"
      ]
     },
     "execution_count": 72,
     "metadata": {},
     "output_type": "execute_result"
    }
   ],
   "source": [
    "s.values"
   ]
  },
  {
   "cell_type": "code",
   "execution_count": 73,
   "metadata": {},
   "outputs": [
    {
     "data": {
      "text/plain": [
       "numpy.ndarray"
      ]
     },
     "execution_count": 73,
     "metadata": {},
     "output_type": "execute_result"
    }
   ],
   "source": [
    "type(s.values)"
   ]
  },
  {
   "cell_type": "code",
   "execution_count": 76,
   "metadata": {},
   "outputs": [],
   "source": [
    "s = pd.Series(x, index = ['a','b','c','d','야호'])  #인덱스를 바꿔준다"
   ]
  },
  {
   "cell_type": "code",
   "execution_count": 77,
   "metadata": {},
   "outputs": [
    {
     "data": {
      "text/plain": [
       "a     1\n",
       "b     2\n",
       "c     3\n",
       "d     4\n",
       "야호    5\n",
       "dtype: int64"
      ]
     },
     "execution_count": 77,
     "metadata": {},
     "output_type": "execute_result"
    }
   ],
   "source": [
    "s"
   ]
  },
  {
   "cell_type": "code",
   "execution_count": 79,
   "metadata": {},
   "outputs": [
    {
     "data": {
      "text/plain": [
       "5"
      ]
     },
     "execution_count": 79,
     "metadata": {},
     "output_type": "execute_result"
    }
   ],
   "source": [
    "s['야호']"
   ]
  },
  {
   "cell_type": "code",
   "execution_count": 80,
   "metadata": {},
   "outputs": [
    {
     "data": {
      "text/plain": [
       "5"
      ]
     },
     "execution_count": 80,
     "metadata": {},
     "output_type": "execute_result"
    }
   ],
   "source": [
    "s[4] # 기본 인덱스는 가지고 있다"
   ]
  },
  {
   "cell_type": "code",
   "execution_count": 81,
   "metadata": {},
   "outputs": [
    {
     "data": {
      "text/plain": [
       "b    2\n",
       "d    4\n",
       "dtype: int64"
      ]
     },
     "execution_count": 81,
     "metadata": {},
     "output_type": "execute_result"
    }
   ],
   "source": [
    "s[['b','d']] #인덱스 여러개를 가지고 가져올 때는 대괄호로 한번 더 묶어서 가지고 온다"
   ]
  },
  {
   "cell_type": "code",
   "execution_count": 82,
   "metadata": {},
   "outputs": [],
   "source": [
    "x={\"수학\":90, \"영어\":80,\"과학\":95,\"미술\":80}\n",
    "x=pd.Series(x)"
   ]
  },
  {
   "cell_type": "code",
   "execution_count": 83,
   "metadata": {},
   "outputs": [
    {
     "data": {
      "text/plain": [
       "수학    90\n",
       "영어    80\n",
       "과학    95\n",
       "미술    80\n",
       "dtype: int64"
      ]
     },
     "execution_count": 83,
     "metadata": {},
     "output_type": "execute_result"
    }
   ],
   "source": [
    "x"
   ]
  },
  {
   "cell_type": "code",
   "execution_count": 84,
   "metadata": {},
   "outputs": [
    {
     "data": {
      "text/plain": [
       "Index(['수학', '영어', '과학', '미술'], dtype='object')"
      ]
     },
     "execution_count": 84,
     "metadata": {},
     "output_type": "execute_result"
    }
   ],
   "source": [
    "x.index"
   ]
  },
  {
   "cell_type": "code",
   "execution_count": 86,
   "metadata": {},
   "outputs": [
    {
     "data": {
      "text/plain": [
       "수학    90\n",
       "영어    80\n",
       "과학    95\n",
       "dtype: int64"
      ]
     },
     "execution_count": 86,
     "metadata": {},
     "output_type": "execute_result"
    }
   ],
   "source": [
    "x['수학':'과학'] #인덱스가 마지막을 포함하는게 좀 다르네...!"
   ]
  },
  {
   "cell_type": "code",
   "execution_count": null,
   "metadata": {},
   "outputs": [],
   "source": []
  }
 ],
 "metadata": {
  "kernelspec": {
   "display_name": "Python 3",
   "language": "python",
   "name": "python3"
  },
  "language_info": {
   "codemirror_mode": {
    "name": "ipython",
    "version": 3
   },
   "file_extension": ".py",
   "mimetype": "text/x-python",
   "name": "python",
   "nbconvert_exporter": "python",
   "pygments_lexer": "ipython3",
   "version": "3.8.3"
  }
 },
 "nbformat": 4,
 "nbformat_minor": 4
}
