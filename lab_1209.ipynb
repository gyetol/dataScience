{
 "cells": [
  {
   "cell_type": "code",
   "execution_count": 8,
   "metadata": {},
   "outputs": [
    {
     "name": "stdout",
     "output_type": "stream",
     "text": [
      "이름을 입력해주세요홍길동\n",
      "나이를 입력해주세요20\n",
      "연락처를 입력해주세요01011111111\n"
     ]
    },
    {
     "data": {
      "text/plain": [
       "{'이름': '홍길동', '나이': 20, '연락처': '01011111111'}"
      ]
     },
     "execution_count": 8,
     "metadata": {},
     "output_type": "execute_result"
    }
   ],
   "source": [
    "name = input(\"이름을 입력해주세요\")\n",
    "age = int(input(\"나이를 입력해주세요\"))\n",
    "phone = input(\"연락처를 입력해주세요\")\n",
    "\n",
    "person3 = dict(이름=name,나이=age,연락처=phone)\n",
    "person = {\"이름\":name,\"나이\":age,\"연락처\":phone}\n",
    "person"
   ]
  },
  {
   "cell_type": "code",
   "execution_count": 6,
   "metadata": {},
   "outputs": [
    {
     "name": "stdout",
     "output_type": "stream",
     "text": [
      "이름을 입력해주세요이몽룡\n",
      "나이를 입력해주세요23\n",
      "연락처를 입력해주세요01022222222\n"
     ]
    },
    {
     "data": {
      "text/plain": [
       "{'이름': '이몽룡', '나이': 23, '연락처': '01022222222'}"
      ]
     },
     "execution_count": 6,
     "metadata": {},
     "output_type": "execute_result"
    }
   ],
   "source": [
    "name = input(\"이름을 입력해주세요\")\n",
    "age = int(input(\"나이를 입력해주세요\"))\n",
    "phone = input(\"연락처를 입력해주세요\")\n",
    "person2 = {\"이름\":name,\"나이\":age,\"연락처\":phone}\n",
    "person2"
   ]
  },
  {
   "cell_type": "code",
   "execution_count": 9,
   "metadata": {},
   "outputs": [
    {
     "data": {
      "text/plain": [
       "[{'이름': '홍길동', '나이': 20, '연락처': '01011111111'},\n",
       " {'이름': '이몽룡', '나이': 23, '연락처': '01022222222'},\n",
       " {'이름': '홍길동', '나이': 20, '연락처': '01011111111'}]"
      ]
     },
     "execution_count": 9,
     "metadata": {},
     "output_type": "execute_result"
    }
   ],
   "source": [
    "ary = [person,person2,person3]\n",
    "ary"
   ]
  },
  {
   "cell_type": "code",
   "execution_count": 11,
   "metadata": {},
   "outputs": [],
   "source": [
    "a={1,2,3,4}"
   ]
  },
  {
   "cell_type": "code",
   "execution_count": 21,
   "metadata": {
    "scrolled": true
   },
   "outputs": [
    {
     "ename": "IndentationError",
     "evalue": "unexpected indent (<ipython-input-21-0bcb04c96459>, line 3)",
     "output_type": "error",
     "traceback": [
      "\u001b[1;36m  File \u001b[1;32m\"<ipython-input-21-0bcb04c96459>\"\u001b[1;36m, line \u001b[1;32m3\u001b[0m\n\u001b[1;33m    print(\"있나\");\u001b[0m\n\u001b[1;37m    ^\u001b[0m\n\u001b[1;31mIndentationError\u001b[0m\u001b[1;31m:\u001b[0m unexpected indent\n"
     ]
    }
   ],
   "source": [
    "if 2 in a:\n",
    "    print(\"있습니다!\")\n",
    "        print(\"있나\")"
   ]
  },
  {
   "cell_type": "code",
   "execution_count": 50,
   "metadata": {
    "scrolled": true
   },
   "outputs": [
    {
     "name": "stdout",
     "output_type": "stream",
     "text": [
      "첫번째 점수를 입력해주세요120\n",
      "두번째 점수를 입력해주세요90\n",
      "세번째 점수를 입력해주세요90\n",
      "잘못된 점수가 입력되었습니다\n"
     ]
    }
   ],
   "source": [
    "num1 = int(input(\"첫번째 점수를 입력해주세요\"))\n",
    "num2 = int(input(\"두번째 점수를 입력해주세요\"))\n",
    "num3 = int(input(\"세번째 점수를 입력해주세요\"))\n",
    "\n",
    "if ( (num1 <0) | (num2 <0) | (num3 <0)) | ((num1 >100) | (num2 >100) | (num3 >100)):\n",
    "    print(\"잘못된 점수가 입력되었습니다\")\n",
    "elif (num1>65) & (num2>65) & (num3>65):\n",
    "    print(\"합격\")\n",
    "else:\n",
    "    print(\"불합격\")\n"
   ]
  },
  {
   "cell_type": "code",
   "execution_count": 49,
   "metadata": {
    "scrolled": true
   },
   "outputs": [
    {
     "name": "stdout",
     "output_type": "stream",
     "text": [
      "첫번째 점수를 입력해주세요50\n",
      "두번째 점수를 입력해주세요60\n",
      "세번째 점수를 입력해주세요90\n",
      "불합격\n"
     ]
    }
   ],
   "source": [
    "num1 = int(input(\"첫번째 점수를 입력해주세요\"))\n",
    "num2 = int(input(\"두번째 점수를 입력해주세요\"))\n",
    "num3 = int(input(\"세번째 점수를 입력해주세요\"))\n",
    "\n",
    "if ( num1 <0 or num2 <0 or num3 <0) or (num1 >100 or num2 >100 or num3 >100):\n",
    "    print(\"잘못된 점수가 입력되었습니다\")\n",
    "elif num1>65 and num2>65 and num3>65:\n",
    "    print(\"합격\")\n",
    "else:\n",
    "    print(\"불합격\")\n"
   ]
  },
  {
   "cell_type": "code",
   "execution_count": 53,
   "metadata": {
    "scrolled": true
   },
   "outputs": [
    {
     "name": "stdout",
     "output_type": "stream",
     "text": [
      "첫번째 점수를 입력해주세요90\n",
      "두번째 점수를 입력해주세요90\n",
      "세번째 점수를 입력해주세요90\n",
      "합격\n"
     ]
    }
   ],
   "source": [
    "num1 = int(input(\"첫번째 점수를 입력해주세요\"))\n",
    "num2 = int(input(\"두번째 점수를 입력해주세요\"))\n",
    "num3 = int(input(\"세번째 점수를 입력해주세요\"))\n",
    "\n",
    "if (0<=num1<=100) and (0<=num2<=100) and (0<=num3<=100):\n",
    "    if num1>65 and num2 >65 and num3>65:\n",
    "        print(\"합격\")\n",
    "    else:\n",
    "        print(\"불합격\")\n",
    "else:\n",
    "    print(\"잘못된 점수가 입력되었습니다.\")\n"
   ]
  },
  {
   "cell_type": "code",
   "execution_count": 43,
   "metadata": {},
   "outputs": [
    {
     "name": "stdout",
     "output_type": "stream",
     "text": [
      "등록할 카테고리를 선택해주세요(과일,채소)채소\n",
      "등록할 채소를 입력해주세요채소\n",
      "['당근', '호박', '채소']\n"
     ]
    }
   ],
   "source": [
    "fruits=['사과','오렌지']\n",
    "vegetables=['당근','호박']\n",
    "\n",
    "category = input(\"등록할 카테고리를 선택해주세요(과일,채소)\")\n",
    "if category == '채소':\n",
    "    vegetable = input(\"등록할 채소를 입력해주세요\")\n",
    "    if vegetable in vegetables:\n",
    "         print(\"이미 등록된 채소입니다\")\n",
    "    else:\n",
    "        vegetables.append(vegetable)\n",
    "        print(vegetables) \n",
    "elif category == '과일':\n",
    "    fruit = input(\"등록할 과일을 입력해주세요\")\n",
    "    if fruit in fruits:\n",
    "        print(\"이미 등록된 과일입니다\")\n",
    "    else:\n",
    "        fruits.append(fruit)\n",
    "        print(fruits)\n",
    "else:\n",
    "    print(\"존재하지 않는 카테고리입니다.\")\n",
    "    "
   ]
  },
  {
   "cell_type": "code",
   "execution_count": 37,
   "metadata": {},
   "outputs": [
    {
     "data": {
      "text/plain": [
       "['당근', '호박']"
      ]
     },
     "execution_count": 37,
     "metadata": {},
     "output_type": "execute_result"
    }
   ],
   "source": [
    "vegetables"
   ]
  },
  {
   "cell_type": "markdown",
   "metadata": {},
   "source": [
    "# for문"
   ]
  },
  {
   "cell_type": "code",
   "execution_count": null,
   "metadata": {},
   "outputs": [],
   "source": []
  },
  {
   "cell_type": "code",
   "execution_count": 59,
   "metadata": {},
   "outputs": [
    {
     "name": "stdout",
     "output_type": "stream",
     "text": [
      "0haha\n",
      "1haha\n",
      "2haha\n",
      "3haha\n",
      "4haha\n",
      "5haha\n",
      "6haha\n",
      "7haha\n",
      "8haha\n",
      "9haha\n"
     ]
    }
   ],
   "source": [
    "for i in range(10):\n",
    "    print(i,end='haha\\n') # end옵션은 마지막에 뭘 넣어줄지인가"
   ]
  },
  {
   "cell_type": "code",
   "execution_count": 62,
   "metadata": {},
   "outputs": [
    {
     "name": "stdout",
     "output_type": "stream",
     "text": [
      "name\n",
      "math\n",
      "english\n"
     ]
    }
   ],
   "source": [
    "for i in {\"name\":\"tom\",\"math\":80,\"english\":70}:\n",
    "    print(i)"
   ]
  },
  {
   "cell_type": "code",
   "execution_count": 63,
   "metadata": {},
   "outputs": [
    {
     "name": "stdout",
     "output_type": "stream",
     "text": [
      "name : tom\n",
      "math : 80\n",
      "english : 70\n"
     ]
    }
   ],
   "source": [
    "myDict={\"name\":\"tom\",\"math\":80,\"english\":70}\n",
    "for k in myDict:\n",
    "    print(\"{} : {}\".format(k,myDict[k]))"
   ]
  },
  {
   "cell_type": "code",
   "execution_count": 65,
   "metadata": {},
   "outputs": [
    {
     "name": "stdout",
     "output_type": "stream",
     "text": [
      "name tom\n",
      "math 80\n",
      "english 70\n"
     ]
    }
   ],
   "source": [
    "for k,v in {\"name\":\"tom\",\"math\":80,\"english\":70}.items():\n",
    "    print(k,v)"
   ]
  },
  {
   "cell_type": "code",
   "execution_count": 66,
   "metadata": {},
   "outputs": [
    {
     "name": "stdout",
     "output_type": "stream",
     "text": [
      "********** 0\n",
      "j:  0\n",
      "j:  1\n",
      "j:  2\n",
      "j:  3\n",
      "j:  4\n",
      "********** 1\n",
      "j:  0\n",
      "j:  1\n",
      "j:  2\n",
      "j:  3\n",
      "j:  4\n",
      "********** 2\n",
      "j:  0\n",
      "j:  1\n",
      "j:  2\n",
      "j:  3\n",
      "j:  4\n",
      "********** 3\n",
      "j:  0\n",
      "j:  1\n",
      "j:  2\n",
      "j:  3\n",
      "j:  4\n",
      "********** 4\n",
      "j:  0\n",
      "j:  1\n",
      "j:  2\n",
      "j:  3\n",
      "j:  4\n"
     ]
    }
   ],
   "source": [
    "for i in range(5):\n",
    "    print(\"*\"*10,i)\n",
    "    for j in range(5):\n",
    "        print(\"j: \",j)"
   ]
  },
  {
   "cell_type": "code",
   "execution_count": 69,
   "metadata": {},
   "outputs": [
    {
     "name": "stdout",
     "output_type": "stream",
     "text": [
      "0 : 사과\n",
      "1 : 오렌지\n"
     ]
    }
   ],
   "source": [
    "for idx, item in enumerate(fruits):\n",
    "    print(\"{} : {}\".format(idx,item))"
   ]
  },
  {
   "cell_type": "code",
   "execution_count": 68,
   "metadata": {},
   "outputs": [
    {
     "data": {
      "text/plain": [
       "'사과'"
      ]
     },
     "execution_count": 68,
     "metadata": {},
     "output_type": "execute_result"
    }
   ],
   "source": [
    "fruit"
   ]
  },
  {
   "cell_type": "markdown",
   "metadata": {},
   "source": [
    "## 실습01"
   ]
  },
  {
   "cell_type": "code",
   "execution_count": 81,
   "metadata": {},
   "outputs": [
    {
     "data": {
      "text/plain": [
       "[30, 60, 80, 200, -70, 50]"
      ]
     },
     "execution_count": 81,
     "metadata": {},
     "output_type": "execute_result"
    }
   ],
   "source": [
    "x=[3,6,8,20,-7,5]\n",
    "y=[]\n",
    "for i in x:\n",
    "    y.append(i*10)\n",
    "y"
   ]
  },
  {
   "cell_type": "code",
   "execution_count": 83,
   "metadata": {},
   "outputs": [
    {
     "data": {
      "text/plain": [
       "{'math': 90, 'science': 100, 'english': 30}"
      ]
     },
     "execution_count": 83,
     "metadata": {},
     "output_type": "execute_result"
    }
   ],
   "source": [
    "y={\"math\":80,\"science\":90,\"english\":20}\n",
    "for i in y:\n",
    "    y[i]+=10\n",
    "y"
   ]
  },
  {
   "cell_type": "code",
   "execution_count": 92,
   "metadata": {
    "scrolled": true
   },
   "outputs": [
    {
     "name": "stdout",
     "output_type": "stream",
     "text": [
      "몇단을 출력하시겠습니까?3\n",
      "3 * 1 = 3\n",
      "3 * 2 = 6\n",
      "3 * 3 = 9\n",
      "3 * 4 = 12\n",
      "3 * 5 = 15\n",
      "3 * 6 = 18\n",
      "3 * 7 = 21\n",
      "3 * 8 = 24\n",
      "3 * 9 = 27\n"
     ]
    }
   ],
   "source": [
    "num = int(input(\"몇단을 출력하시겠습니까?\"))\n",
    "for i in range(1,10):\n",
    "    print(num,\"*\",i ,\"=\",num*i)"
   ]
  },
  {
   "cell_type": "markdown",
   "metadata": {},
   "source": [
    "## 실습02"
   ]
  },
  {
   "cell_type": "code",
   "execution_count": 94,
   "metadata": {},
   "outputs": [
    {
     "data": {
      "text/plain": [
       "['school', 'science', 'mountain']"
      ]
     },
     "execution_count": 94,
     "metadata": {},
     "output_type": "execute_result"
    }
   ],
   "source": [
    "word=[\"school\",\"game\",\"piano\",\"science\",\"hotel\",\"mountain\"]\n",
    "x = list()\n",
    "for i in word:\n",
    "     if len(i) >=6:\n",
    "            x.append(i)\n",
    "x"
   ]
  },
  {
   "cell_type": "code",
   "execution_count": 96,
   "metadata": {},
   "outputs": [
    {
     "name": "stdout",
     "output_type": "stream",
     "text": [
      "1 * 1 = 1\n",
      "1 * 2 = 2\n",
      "1 * 3 = 3\n",
      "1 * 4 = 4\n",
      "1 * 5 = 5\n",
      "1 * 6 = 6\n",
      "1 * 7 = 7\n",
      "1 * 8 = 8\n",
      "1 * 9 = 9\n",
      "**********\n",
      "2 * 1 = 2\n",
      "2 * 2 = 4\n",
      "2 * 3 = 6\n",
      "2 * 4 = 8\n",
      "2 * 5 = 10\n",
      "2 * 6 = 12\n",
      "2 * 7 = 14\n",
      "2 * 8 = 16\n",
      "2 * 9 = 18\n",
      "**********\n",
      "3 * 1 = 3\n",
      "3 * 2 = 6\n",
      "3 * 3 = 9\n",
      "3 * 4 = 12\n",
      "3 * 5 = 15\n",
      "3 * 6 = 18\n",
      "3 * 7 = 21\n",
      "3 * 8 = 24\n",
      "3 * 9 = 27\n",
      "**********\n",
      "4 * 1 = 4\n",
      "4 * 2 = 8\n",
      "4 * 3 = 12\n",
      "4 * 4 = 16\n",
      "4 * 5 = 20\n",
      "4 * 6 = 24\n",
      "4 * 7 = 28\n",
      "4 * 8 = 32\n",
      "4 * 9 = 36\n",
      "**********\n",
      "5 * 1 = 5\n",
      "5 * 2 = 10\n",
      "5 * 3 = 15\n",
      "5 * 4 = 20\n",
      "5 * 5 = 25\n",
      "5 * 6 = 30\n",
      "5 * 7 = 35\n",
      "5 * 8 = 40\n",
      "5 * 9 = 45\n",
      "**********\n",
      "6 * 1 = 6\n",
      "6 * 2 = 12\n",
      "6 * 3 = 18\n",
      "6 * 4 = 24\n",
      "6 * 5 = 30\n",
      "6 * 6 = 36\n",
      "6 * 7 = 42\n",
      "6 * 8 = 48\n",
      "6 * 9 = 54\n",
      "**********\n",
      "7 * 1 = 7\n",
      "7 * 2 = 14\n",
      "7 * 3 = 21\n",
      "7 * 4 = 28\n",
      "7 * 5 = 35\n",
      "7 * 6 = 42\n",
      "7 * 7 = 49\n",
      "7 * 8 = 56\n",
      "7 * 9 = 63\n",
      "**********\n",
      "8 * 1 = 8\n",
      "8 * 2 = 16\n",
      "8 * 3 = 24\n",
      "8 * 4 = 32\n",
      "8 * 5 = 40\n",
      "8 * 6 = 48\n",
      "8 * 7 = 56\n",
      "8 * 8 = 64\n",
      "8 * 9 = 72\n",
      "**********\n",
      "9 * 1 = 9\n",
      "9 * 2 = 18\n",
      "9 * 3 = 27\n",
      "9 * 4 = 36\n",
      "9 * 5 = 45\n",
      "9 * 6 = 54\n",
      "9 * 7 = 63\n",
      "9 * 8 = 72\n",
      "9 * 9 = 81\n",
      "**********\n"
     ]
    }
   ],
   "source": [
    "for i in range(1,10):\n",
    "    for j in range(1,10):\n",
    "        print(i,\"*\",j,\"=\",i*j)\n",
    "    print(\"*\"*10)"
   ]
  },
  {
   "cell_type": "markdown",
   "metadata": {},
   "source": [
    "## 실습03"
   ]
  },
  {
   "cell_type": "code",
   "execution_count": 122,
   "metadata": {},
   "outputs": [
    {
     "data": {
      "text/plain": [
       "[-7, 3, 5, 6, 8, 20]"
      ]
     },
     "execution_count": 122,
     "metadata": {},
     "output_type": "execute_result"
    }
   ],
   "source": [
    "x=[3,6,8,20,-7,5]\n",
    "\n",
    "for i in range(len(x)):\n",
    "    for j in range(i,len(x)) :\n",
    "        if x[i]>x[j]:\n",
    "            temp =x[i]\n",
    "            x[i]=x[j]\n",
    "            x[j]=temp\n",
    "x\n",
    "        "
   ]
  },
  {
   "cell_type": "code",
   "execution_count": 124,
   "metadata": {},
   "outputs": [
    {
     "data": {
      "text/plain": [
       "[-7, -3, 1, 2, 2, 3, 5, 6, 8, 20, 99]"
      ]
     },
     "execution_count": 124,
     "metadata": {},
     "output_type": "execute_result"
    }
   ],
   "source": [
    "x=[3,2,1,2,99,-3,6,8,20,-7,5]\n",
    "\n",
    "for i in range(len(x)):\n",
    "    for j in range(i,len(x)) :\n",
    "        if x[i]>x[j]:\n",
    "            temp =x[i]\n",
    "            x[i]=x[j]\n",
    "            x[j]=temp\n",
    "x\n",
    "        "
   ]
  },
  {
   "cell_type": "code",
   "execution_count": 115,
   "metadata": {},
   "outputs": [
    {
     "name": "stdout",
     "output_type": "stream",
     "text": [
      "1\n",
      "2\n",
      "3의 배수\n",
      "4\n",
      "5의 배수\n",
      "3의 배수\n",
      "7\n",
      "8\n",
      "3의 배수\n",
      "5의 배수\n",
      "11\n",
      "3의 배수\n",
      "13\n",
      "14\n",
      "3과 5의 공배수\n",
      "16\n",
      "17\n",
      "3의 배수\n",
      "19\n",
      "5의 배수\n",
      "3의 배수\n",
      "22\n",
      "23\n",
      "3의 배수\n",
      "5의 배수\n",
      "26\n",
      "3의 배수\n",
      "28\n",
      "29\n",
      "3과 5의 공배수\n",
      "31\n",
      "32\n",
      "3의 배수\n",
      "34\n",
      "5의 배수\n",
      "3의 배수\n",
      "37\n",
      "38\n",
      "3의 배수\n",
      "5의 배수\n",
      "41\n",
      "3의 배수\n",
      "43\n",
      "44\n",
      "3과 5의 공배수\n",
      "46\n",
      "47\n",
      "3의 배수\n",
      "49\n",
      "5의 배수\n",
      "3의 배수\n",
      "52\n",
      "53\n",
      "3의 배수\n",
      "5의 배수\n",
      "56\n",
      "3의 배수\n",
      "58\n",
      "59\n",
      "3과 5의 공배수\n",
      "61\n",
      "62\n",
      "3의 배수\n",
      "64\n",
      "5의 배수\n",
      "3의 배수\n",
      "67\n",
      "68\n",
      "3의 배수\n",
      "5의 배수\n",
      "71\n",
      "3의 배수\n",
      "73\n",
      "74\n",
      "3과 5의 공배수\n",
      "76\n",
      "77\n",
      "3의 배수\n",
      "79\n",
      "5의 배수\n",
      "3의 배수\n",
      "82\n",
      "83\n",
      "3의 배수\n",
      "5의 배수\n",
      "86\n",
      "3의 배수\n",
      "88\n",
      "89\n",
      "3과 5의 공배수\n",
      "91\n",
      "92\n",
      "3의 배수\n",
      "94\n",
      "5의 배수\n",
      "3의 배수\n",
      "97\n",
      "98\n",
      "3의 배수\n",
      "5의 배수\n"
     ]
    }
   ],
   "source": [
    "for i in range(1,101):\n",
    "    if i %3==0 and i%5==0:\n",
    "        print(\"3과 5의 공배수\")\n",
    "    else:\n",
    "        if i % 3==0:\n",
    "            print(\"3의 배수\")\n",
    "        elif i % 5 ==0:\n",
    "            print(\"5의 배수\")\n",
    "        else:\n",
    "            print(i)"
   ]
  },
  {
   "cell_type": "markdown",
   "metadata": {},
   "source": [
    "# while"
   ]
  },
  {
   "cell_type": "markdown",
   "metadata": {},
   "source": [
    "## 실습01"
   ]
  },
  {
   "cell_type": "code",
   "execution_count": 103,
   "metadata": {},
   "outputs": [
    {
     "name": "stdout",
     "output_type": "stream",
     "text": [
      "값을 입력해주세요:10\n",
      "값을 입력해주세요:20\n",
      "값을 입력해주세요:30\n",
      "값을 입력해주세요:40\n",
      "값을 입력해주세요:0\n",
      "100\n"
     ]
    }
   ],
   "source": [
    "i =1\n",
    "sum=0\n",
    "while i ==1:\n",
    "    num = int(input(\"값을 입력해주세요:\"))\n",
    "    if num ==0:\n",
    "        i=0\n",
    "    sum+=num\n",
    "print(sum)\n",
    "\n"
   ]
  },
  {
   "cell_type": "code",
   "execution_count": 105,
   "metadata": {},
   "outputs": [
    {
     "name": "stdout",
     "output_type": "stream",
     "text": [
      "값을 입력해주세요:10\n",
      "값을 입력해주세요:20\n",
      "값을 입력해주세요:30\n",
      "값을 입력해주세요:0\n",
      "60\n"
     ]
    }
   ],
   "source": [
    "i =1\n",
    "sum=0\n",
    "while i !=0:\n",
    "    i = int(input(\"값을 입력해주세요:\"))\n",
    "    sum+=i\n",
    "print(sum)\n",
    "\n"
   ]
  },
  {
   "cell_type": "code",
   "execution_count": 113,
   "metadata": {},
   "outputs": [
    {
     "name": "stdout",
     "output_type": "stream",
     "text": [
      "가위(1),바위(2),보(3)을 입력해주세요:3\n",
      "유저: 보, 컴퓨터: 바위\n",
      "가위(1),바위(2),보(3)을 입력해주세요:2\n",
      "유저: 바위, 컴퓨터: 보\n",
      "가위(1),바위(2),보(3)을 입력해주세요:3\n",
      "유저: 보, 컴퓨터: 바위\n",
      "가위(1),바위(2),보(3)을 입력해주세요:8\n",
      "전체: 3 승리: 2\n"
     ]
    }
   ],
   "source": [
    "import random\n",
    "\n",
    "userwin=0\n",
    "game=0\n",
    "\n",
    "while True:\n",
    "    user = int(input(\"가위(1),바위(2),보(3)을 입력해주세요:\"))\n",
    "    com = random.randint(1,3)\n",
    "    if user != 1 and user !=2 and user !=3:\n",
    "        break\n",
    "    elif user==1:\n",
    "        game +=1\n",
    "        if com ==1:\n",
    "            print(\"유저: 가위, 컴퓨터: 가위\")\n",
    "        elif com ==2:\n",
    "            print(\"유저: 가위, 컴퓨터: 바위\")\n",
    "        elif com ==3:\n",
    "            print(\"유저: 가위, 컴퓨터: 보\")\n",
    "            userwin+=1\n",
    "    elif user==2:\n",
    "        game+=1\n",
    "        if com ==1:\n",
    "            print(\"유저: 바위, 컴퓨터: 가위\")\n",
    "            userwin+=1\n",
    "        elif com ==2:\n",
    "            print(\"유저: 바위, 컴퓨터: 바위\")\n",
    "        elif com ==3:\n",
    "            print(\"유저: 바위, 컴퓨터: 보\")\n",
    "    elif user==3:\n",
    "        game+=1\n",
    "        if com ==1:\n",
    "            print(\"유저: 보, 컴퓨터: 가위\")\n",
    "        elif com ==2:\n",
    "            print(\"유저: 보, 컴퓨터: 바위\")\n",
    "            userwin+=1\n",
    "        elif com ==3:\n",
    "            print(\"유저: 보, 컴퓨터: 보\")\n",
    "print(\"전체:\",game,\"승리:\",userwin)"
   ]
  },
  {
   "cell_type": "code",
   "execution_count": null,
   "metadata": {},
   "outputs": [],
   "source": []
  }
 ],
 "metadata": {
  "kernelspec": {
   "display_name": "Python 3",
   "language": "python",
   "name": "python3"
  },
  "language_info": {
   "codemirror_mode": {
    "name": "ipython",
    "version": 3
   },
   "file_extension": ".py",
   "mimetype": "text/x-python",
   "name": "python",
   "nbconvert_exporter": "python",
   "pygments_lexer": "ipython3",
   "version": "3.8.3"
  }
 },
 "nbformat": 4,
 "nbformat_minor": 4
}
