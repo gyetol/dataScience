{
 "cells": [
  {
   "cell_type": "markdown",
   "metadata": {},
   "source": [
    "## 조계철 1주차 숙제"
   ]
  },
  {
   "cell_type": "markdown",
   "metadata": {},
   "source": [
    "## 사칙연산 함수 구현하기"
   ]
  },
  {
   "cell_type": "code",
   "execution_count": 1,
   "metadata": {},
   "outputs": [],
   "source": [
    "def calc(operator, num1, num2):\n",
    "    ret = 0\n",
    "\n",
    "    if operator =='+':\n",
    "        ret = num1+num2\n",
    "    elif operator == '-':\n",
    "        ret = num1-num2\n",
    "    elif operator == '*':\n",
    "        ret = num1*num2\n",
    "    elif operator == '/':\n",
    "        if num2 == 0:\n",
    "            print(\"0으로 나눌 수 없습니다\")\n",
    "        else:\n",
    "            ret = num1/num2\n",
    "    else:\n",
    "        print(\"계산 할 수 없습니다. 입력 값을 확인하세요\")\n",
    "    \n",
    "    return ret"
   ]
  },
  {
   "cell_type": "code",
   "execution_count": 2,
   "metadata": {},
   "outputs": [
    {
     "data": {
      "text/plain": [
       "1.5"
      ]
     },
     "execution_count": 2,
     "metadata": {},
     "output_type": "execute_result"
    }
   ],
   "source": [
    "calc('/',3,2)"
   ]
  },
  {
   "cell_type": "code",
   "execution_count": 3,
   "metadata": {},
   "outputs": [
    {
     "name": "stdout",
     "output_type": "stream",
     "text": [
      "0으로 나눌 수 없습니다\n"
     ]
    },
    {
     "data": {
      "text/plain": [
       "0"
      ]
     },
     "execution_count": 3,
     "metadata": {},
     "output_type": "execute_result"
    }
   ],
   "source": [
    "calc('/',3,0)"
   ]
  },
  {
   "cell_type": "code",
   "execution_count": 4,
   "metadata": {},
   "outputs": [
    {
     "data": {
      "text/plain": [
       "6"
      ]
     },
     "execution_count": 4,
     "metadata": {},
     "output_type": "execute_result"
    }
   ],
   "source": [
    "calc('*',3,2)"
   ]
  },
  {
   "cell_type": "markdown",
   "metadata": {},
   "source": [
    "# 성적관리 프로그램"
   ]
  },
  {
   "cell_type": "code",
   "execution_count": 5,
   "metadata": {},
   "outputs": [
    {
     "name": "stdout",
     "output_type": "stream",
     "text": [
      "메뉴를 선택해주세요 (1-입력, 2-조회, 3-삭제, 0-종료):2\n",
      "메뉴를 선택해주세요 (1-입력, 2-조회, 3-삭제, 0-종료):1\n",
      "이름:홍길동\n",
      "수학:30\n",
      "과학:60\n",
      "영어:70\n",
      "메뉴를 선택해주세요 (1-입력, 2-조회, 3-삭제, 0-종료):1\n",
      "이름:이몽룡\n",
      "수학:60\n",
      "과학:40\n",
      "영어:60\n",
      "메뉴를 선택해주세요 (1-입력, 2-조회, 3-삭제, 0-종료):2\n",
      "[ 0 ] 이름:홍길동,수학:30,과학:60,영어:70\n",
      "[ 1 ] 이름:이몽룡,수학:60,과학:40,영어:60\n",
      "메뉴를 선택해주세요 (1-입력, 2-조회, 3-삭제, 0-종료):0\n",
      "종료되었습니다\n"
     ]
    }
   ],
   "source": [
    "ary = []\n",
    "while True:\n",
    "    menuNum = int(input(\"메뉴를 선택해주세요 (1-입력, 2-조회, 3-삭제, 0-종료):\"))\n",
    "    if menuNum==0:\n",
    "        import pickle\n",
    "        with open(\"scores.pkl\",\"wb\") as file:\n",
    "            pickle.dump(ary,file)\n",
    "        break;\n",
    "    elif menuNum==1:\n",
    "        name = input(\"이름:\")\n",
    "        math = input(\"수학:\")\n",
    "        science = input(\"과학:\")\n",
    "        english = input(\"영어:\")\n",
    "        ary.append(\"이름:{},수학:{},과학:{},영어:{}\".format(name,math,science,english))\n",
    "        continue\n",
    "    elif menuNum==2:\n",
    "        for i in range(len(ary)):\n",
    "            print(\"[\",i,\"]\",ary[i])\n",
    "        continue\n",
    "    elif menuNum==3:\n",
    "        for i in range(len(ary)):\n",
    "            print(\"[\",i,\"]\",ary[i])\n",
    "        num= int(input(\"삭제할 번호를 입력해주세요:\"))\n",
    "        ary.pop(num)\n",
    "        print(\"삭제가 완료되었습니다\")\n",
    "        continue\n",
    "print(\"종료되었습니다\")"
   ]
  },
  {
   "cell_type": "code",
   "execution_count": 6,
   "metadata": {},
   "outputs": [
    {
     "name": "stdout",
     "output_type": "stream",
     "text": [
      "메뉴를 선택해주세요 (1-입력, 2-조회, 3-삭제, 0-종료):2\n",
      "[ 0 ] 이름:홍길동,수학:30,과학:60,영어:70\n",
      "[ 1 ] 이름:이몽룡,수학:60,과학:40,영어:60\n",
      "메뉴를 선택해주세요 (1-입력, 2-조회, 3-삭제, 0-종료):1\n",
      "이름:성춘향\n",
      "수학:40\n",
      "과학:100\n",
      "영어:100\n",
      "메뉴를 선택해주세요 (1-입력, 2-조회, 3-삭제, 0-종료):2\n",
      "[ 0 ] 이름:홍길동,수학:30,과학:60,영어:70\n",
      "[ 1 ] 이름:이몽룡,수학:60,과학:40,영어:60\n",
      "[ 2 ] 이름:성춘향,수학:40,과학:100,영어:100\n",
      "메뉴를 선택해주세요 (1-입력, 2-조회, 3-삭제, 0-종료):3\n",
      "[ 0 ] 이름:홍길동,수학:30,과학:60,영어:70\n",
      "[ 1 ] 이름:이몽룡,수학:60,과학:40,영어:60\n",
      "[ 2 ] 이름:성춘향,수학:40,과학:100,영어:100\n",
      "삭제할 번호를 입력해주세요:1\n",
      "삭제가 완료되었습니다\n",
      "메뉴를 선택해주세요 (1-입력, 2-조회, 3-삭제, 0-종료):2\n",
      "[ 0 ] 이름:홍길동,수학:30,과학:60,영어:70\n",
      "[ 1 ] 이름:성춘향,수학:40,과학:100,영어:100\n",
      "메뉴를 선택해주세요 (1-입력, 2-조회, 3-삭제, 0-종료):0\n",
      "종료되었습니다\n"
     ]
    }
   ],
   "source": [
    "import pickle\n",
    "\n",
    "with open(\"scores.pkl\",\"rb\") as file:\n",
    "    ary=pickle.load(file)\n",
    "    \n",
    "while True:\n",
    "    menuNum = int(input(\"메뉴를 선택해주세요 (1-입력, 2-조회, 3-삭제, 0-종료):\"))\n",
    "    if menuNum==0:\n",
    "        import pickle\n",
    "        with open(\"scores.pkl\",\"wb\") as file:\n",
    "            pickle.dump(ary,file)\n",
    "        break;\n",
    "    elif menuNum==1:\n",
    "        name = input(\"이름:\")\n",
    "        math = input(\"수학:\")\n",
    "        science = input(\"과학:\")\n",
    "        english = input(\"영어:\")\n",
    "        ary.append(\"이름:{},수학:{},과학:{},영어:{}\".format(name,math,science,english))\n",
    "        continue\n",
    "    elif menuNum==2:\n",
    "        for i in range(len(ary)):\n",
    "            print(\"[\",i,\"]\",ary[i])\n",
    "        continue\n",
    "    elif menuNum==3:\n",
    "        for i in range(len(ary)):\n",
    "            print(\"[\",i,\"]\",ary[i])\n",
    "        num= int(input(\"삭제할 번호를 입력해주세요:\"))\n",
    "        ary.pop(num)\n",
    "        print(\"삭제가 완료되었습니다\")\n",
    "        continue\n",
    "print(\"종료되었습니다\")"
   ]
  },
  {
   "cell_type": "code",
   "execution_count": null,
   "metadata": {},
   "outputs": [],
   "source": []
  }
 ],
 "metadata": {
  "kernelspec": {
   "display_name": "Python 3",
   "language": "python",
   "name": "python3"
  },
  "language_info": {
   "codemirror_mode": {
    "name": "ipython",
    "version": 3
   },
   "file_extension": ".py",
   "mimetype": "text/x-python",
   "name": "python",
   "nbconvert_exporter": "python",
   "pygments_lexer": "ipython3",
   "version": "3.8.3"
  }
 },
 "nbformat": 4,
 "nbformat_minor": 4
}
