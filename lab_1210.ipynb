{
 "cells": [
  {
   "cell_type": "code",
   "execution_count": 2,
   "metadata": {},
   "outputs": [
    {
     "name": "stdout",
     "output_type": "stream",
     "text": [
      "숫자를 입력하세요:20\n",
      "0\n",
      "1\n",
      "2\n",
      "3\n",
      "4\n",
      "5\n",
      "6\n",
      "7\n",
      "8\n",
      "9\n",
      "10\n",
      "11\n",
      "12\n",
      "13\n",
      "14\n",
      "15\n",
      "16\n",
      "17\n",
      "18\n",
      "19\n",
      "20\n"
     ]
    }
   ],
   "source": [
    "user = int(input(\"숫자를 입력하세요:\"))\n",
    "cnt = 0\n",
    "while True:\n",
    "    if user==-1:\n",
    "        break\n",
    "    print(cnt)\n",
    "    cnt+=1\n",
    "    user-=1"
   ]
  },
  {
   "cell_type": "code",
   "execution_count": 3,
   "metadata": {},
   "outputs": [
    {
     "name": "stdout",
     "output_type": "stream",
     "text": [
      "숫자를 입력하세요:20\n",
      "0\n",
      "2\n",
      "4\n",
      "6\n",
      "8\n",
      "10\n",
      "12\n",
      "14\n",
      "16\n",
      "18\n",
      "20\n"
     ]
    }
   ],
   "source": [
    "user = int(input(\"숫자를 입력하세요:\"))\n",
    "for i in range(user+1):\n",
    "    if i%2!=0:\n",
    "        continue\n",
    "    print(i)"
   ]
  },
  {
   "cell_type": "code",
   "execution_count": 6,
   "metadata": {},
   "outputs": [
    {
     "data": {
      "text/plain": [
       "['school', 'science', 'mountain']"
      ]
     },
     "execution_count": 6,
     "metadata": {},
     "output_type": "execute_result"
    }
   ],
   "source": [
    "word = [\"school\",\"game\",\"piano\",\"science\",\"hotle\",\"mountain\"]\n",
    "wordMore6 = [i for i in word if len(i)>=6] \n",
    "wordMore6"
   ]
  },
  {
   "cell_type": "code",
   "execution_count": 8,
   "metadata": {},
   "outputs": [
    {
     "data": {
      "text/plain": [
       "[6, 4, 5, 7, 5, 8]"
      ]
     },
     "execution_count": 8,
     "metadata": {},
     "output_type": "execute_result"
    }
   ],
   "source": [
    "word = [\"school\",\"game\",\"piano\",\"science\",\"hotle\",\"mountain\"]\n",
    "wordMore6 = [len(i) for i in word] \n",
    "wordMore6"
   ]
  },
  {
   "cell_type": "markdown",
   "metadata": {},
   "source": [
    "# 파일 입출력"
   ]
  },
  {
   "cell_type": "code",
   "execution_count": 5,
   "metadata": {},
   "outputs": [],
   "source": [
    "file = open(\"file.txt\",\"w\",encoding=\"utf-8\")\n",
    "file.write(\"First File\\n 한글만세\")\n",
    "file.close()"
   ]
  },
  {
   "cell_type": "code",
   "execution_count": 7,
   "metadata": {},
   "outputs": [],
   "source": [
    "import pickle\n",
    "name =\"tom\"\n",
    "with open(\"data2.pkl\",\"wb\") as file:\n",
    "    pickle.dump(name,file)"
   ]
  },
  {
   "cell_type": "code",
   "execution_count": 10,
   "metadata": {},
   "outputs": [
    {
     "ename": "TypeError",
     "evalue": "load() takes exactly 1 positional argument (2 given)",
     "output_type": "error",
     "traceback": [
      "\u001b[1;31m---------------------------------------------------------------------------\u001b[0m",
      "\u001b[1;31mTypeError\u001b[0m                                 Traceback (most recent call last)",
      "\u001b[1;32m<ipython-input-10-3d4e2e297102>\u001b[0m in \u001b[0;36m<module>\u001b[1;34m\u001b[0m\n\u001b[0;32m      2\u001b[0m \u001b[1;33m\u001b[0m\u001b[0m\n\u001b[0;32m      3\u001b[0m \u001b[1;32mwith\u001b[0m \u001b[0mopen\u001b[0m\u001b[1;33m(\u001b[0m\u001b[1;34m\"data2.pkl\"\u001b[0m\u001b[1;33m,\u001b[0m\u001b[1;34m\"rb\"\u001b[0m\u001b[1;33m)\u001b[0m \u001b[1;32mas\u001b[0m \u001b[0mfile\u001b[0m\u001b[1;33m:\u001b[0m\u001b[1;33m\u001b[0m\u001b[1;33m\u001b[0m\u001b[0m\n\u001b[1;32m----> 4\u001b[1;33m     \u001b[0mname\u001b[0m \u001b[1;33m=\u001b[0m \u001b[0mpickle\u001b[0m\u001b[1;33m.\u001b[0m\u001b[0mload\u001b[0m\u001b[1;33m(\u001b[0m\u001b[0mfile\u001b[0m\u001b[1;33m,\u001b[0m\u001b[0mname\u001b[0m\u001b[1;33m)\u001b[0m\u001b[1;33m\u001b[0m\u001b[1;33m\u001b[0m\u001b[0m\n\u001b[0m",
      "\u001b[1;31mTypeError\u001b[0m: load() takes exactly 1 positional argument (2 given)"
     ]
    }
   ],
   "source": [
    "import pickle\n",
    "\n",
    "with open(\"data2.pkl\",\"rb\") as file:\n",
    "    name = pickle.load(file,name)"
   ]
  },
  {
   "cell_type": "code",
   "execution_count": 9,
   "metadata": {},
   "outputs": [
    {
     "data": {
      "text/plain": [
       "'tom'"
      ]
     },
     "execution_count": 9,
     "metadata": {},
     "output_type": "execute_result"
    }
   ],
   "source": [
    "name"
   ]
  },
  {
   "cell_type": "code",
   "execution_count": 11,
   "metadata": {},
   "outputs": [
    {
     "name": "stdout",
     "output_type": "stream",
     "text": [
      "가위(1),바위(2),보(3)을 입력해주세요:1\n",
      "유저: 가위, 컴퓨터: 보\n",
      "가위(1),바위(2),보(3)을 입력해주세요:2\n",
      "유저: 바위, 컴퓨터: 보\n",
      "가위(1),바위(2),보(3)을 입력해주세요:3\n",
      "유저: 보, 컴퓨터: 보\n",
      "가위(1),바위(2),보(3)을 입력해주세요:4\n",
      "전체: 3 승리: 1\n"
     ]
    }
   ],
   "source": [
    "import random\n",
    "\n",
    "userwin=0\n",
    "game=0\n",
    "\n",
    "while True:\n",
    "    user = int(input(\"가위(1),바위(2),보(3)을 입력해주세요:\"))\n",
    "    com = random.randint(1,3)\n",
    "    if user != 1 and user !=2 and user !=3:\n",
    "        break\n",
    "    elif user==1:\n",
    "        game +=1\n",
    "        if com ==1:\n",
    "            print(\"유저: 가위, 컴퓨터: 가위\")\n",
    "        elif com ==2:\n",
    "            print(\"유저: 가위, 컴퓨터: 바위\")\n",
    "        elif com ==3:\n",
    "            print(\"유저: 가위, 컴퓨터: 보\")\n",
    "            userwin+=1\n",
    "    elif user==2:\n",
    "        game+=1\n",
    "        if com ==1:\n",
    "            print(\"유저: 바위, 컴퓨터: 가위\")\n",
    "            userwin+=1\n",
    "        elif com ==2:\n",
    "            print(\"유저: 바위, 컴퓨터: 바위\")\n",
    "        elif com ==3:\n",
    "            print(\"유저: 바위, 컴퓨터: 보\")\n",
    "    elif user==3:\n",
    "        game+=1\n",
    "        if com ==1:\n",
    "            print(\"유저: 보, 컴퓨터: 가위\")\n",
    "        elif com ==2:\n",
    "            print(\"유저: 보, 컴퓨터: 바위\")\n",
    "            userwin+=1\n",
    "        elif com ==3:\n",
    "            print(\"유저: 보, 컴퓨터: 보\")\n",
    "print(\"전체:\",game,\"승리:\",userwin)"
   ]
  },
  {
   "cell_type": "code",
   "execution_count": 12,
   "metadata": {},
   "outputs": [],
   "source": [
    "import pickle\n",
    "\n",
    "with open(\"data2.pkl\",\"wb\") as file:\n",
    "    pickle.dump(userwin,file)\n",
    "    pickle.dump(game,file)"
   ]
  },
  {
   "cell_type": "code",
   "execution_count": 5,
   "metadata": {},
   "outputs": [],
   "source": [
    "import pickle\n",
    "\n",
    "with open(\"data2.pkl\",\"rb\") as file:\n",
    "    userwin = pickle.load(file)\n",
    "    game = pickle.load(file)"
   ]
  },
  {
   "cell_type": "code",
   "execution_count": 6,
   "metadata": {},
   "outputs": [
    {
     "data": {
      "text/plain": [
       "1"
      ]
     },
     "execution_count": 6,
     "metadata": {},
     "output_type": "execute_result"
    }
   ],
   "source": [
    "userwin"
   ]
  },
  {
   "cell_type": "code",
   "execution_count": 7,
   "metadata": {},
   "outputs": [
    {
     "name": "stdout",
     "output_type": "stream",
     "text": [
      "가위(1),바위(2),보(3)을 입력해주세요:2\n",
      "유저: 바위, 컴퓨터: 바위\n",
      "가위(1),바위(2),보(3)을 입력해주세요:3\n",
      "유저: 보, 컴퓨터: 바위\n",
      "가위(1),바위(2),보(3)을 입력해주세요:4\n",
      "전체: 5 승리: 2\n"
     ]
    }
   ],
   "source": [
    "import random\n",
    "\n",
    "while True:\n",
    "    user = int(input(\"가위(1),바위(2),보(3)을 입력해주세요:\"))\n",
    "    com = random.randint(1,3)\n",
    "    if user != 1 and user !=2 and user !=3:\n",
    "        break\n",
    "    elif user==1:\n",
    "        game +=1\n",
    "        if com ==1:\n",
    "            print(\"유저: 가위, 컴퓨터: 가위\")\n",
    "        elif com ==2:\n",
    "            print(\"유저: 가위, 컴퓨터: 바위\")\n",
    "        elif com ==3:\n",
    "            print(\"유저: 가위, 컴퓨터: 보\")\n",
    "            userwin+=1\n",
    "    elif user==2:\n",
    "        game+=1\n",
    "        if com ==1:\n",
    "            print(\"유저: 바위, 컴퓨터: 가위\")\n",
    "            userwin+=1\n",
    "        elif com ==2:\n",
    "            print(\"유저: 바위, 컴퓨터: 바위\")\n",
    "        elif com ==3:\n",
    "            print(\"유저: 바위, 컴퓨터: 보\")\n",
    "    elif user==3:\n",
    "        game+=1\n",
    "        if com ==1:\n",
    "            print(\"유저: 보, 컴퓨터: 가위\")\n",
    "        elif com ==2:\n",
    "            print(\"유저: 보, 컴퓨터: 바위\")\n",
    "            userwin+=1\n",
    "        elif com ==3:\n",
    "            print(\"유저: 보, 컴퓨터: 보\")\n",
    "print(\"전체:\",game,\"승리:\",userwin)"
   ]
  },
  {
   "cell_type": "markdown",
   "metadata": {},
   "source": [
    "# 함수"
   ]
  },
  {
   "cell_type": "markdown",
   "metadata": {},
   "source": [
    "#### 함수 여러값 리턴 (사실은 튜플하나를 리턴 받는 것이다)"
   ]
  },
  {
   "cell_type": "code",
   "execution_count": 8,
   "metadata": {},
   "outputs": [
    {
     "data": {
      "text/plain": [
       "(5, 1, 4)"
      ]
     },
     "execution_count": 8,
     "metadata": {},
     "output_type": "execute_result"
    }
   ],
   "source": [
    "def tupreturn(x,y,z):\n",
    "    return x+y,x-y,x+z\n",
    "tupreturn(3,2,1)"
   ]
  },
  {
   "cell_type": "code",
   "execution_count": 10,
   "metadata": {},
   "outputs": [],
   "source": [
    "num1,num2,num3 = tupreturn(3,2,1)"
   ]
  },
  {
   "cell_type": "code",
   "execution_count": 11,
   "metadata": {},
   "outputs": [
    {
     "name": "stdout",
     "output_type": "stream",
     "text": [
      "5\n"
     ]
    }
   ],
   "source": [
    "print(num1)"
   ]
  },
  {
   "cell_type": "code",
   "execution_count": 12,
   "metadata": {},
   "outputs": [
    {
     "name": "stdout",
     "output_type": "stream",
     "text": [
      "1\n"
     ]
    }
   ],
   "source": [
    "print(num2)"
   ]
  },
  {
   "cell_type": "markdown",
   "metadata": {},
   "source": [
    "#### 튜플은 원소의 개수와 할당받는 변수의 개수가 같아야 한다"
   ]
  },
  {
   "cell_type": "code",
   "execution_count": 13,
   "metadata": {},
   "outputs": [
    {
     "ename": "ValueError",
     "evalue": "too many values to unpack (expected 2)",
     "output_type": "error",
     "traceback": [
      "\u001b[1;31m---------------------------------------------------------------------------\u001b[0m",
      "\u001b[1;31mValueError\u001b[0m                                Traceback (most recent call last)",
      "\u001b[1;32m<ipython-input-13-bf8d1e791c8b>\u001b[0m in \u001b[0;36m<module>\u001b[1;34m\u001b[0m\n\u001b[1;32m----> 1\u001b[1;33m \u001b[0mx1\u001b[0m\u001b[1;33m,\u001b[0m\u001b[0mx2\u001b[0m \u001b[1;33m=\u001b[0m \u001b[0mtupreturn\u001b[0m\u001b[1;33m(\u001b[0m\u001b[1;36m3\u001b[0m\u001b[1;33m,\u001b[0m\u001b[1;36m2\u001b[0m\u001b[1;33m,\u001b[0m\u001b[1;36m1\u001b[0m\u001b[1;33m)\u001b[0m\u001b[1;33m\u001b[0m\u001b[1;33m\u001b[0m\u001b[0m\n\u001b[0m",
      "\u001b[1;31mValueError\u001b[0m: too many values to unpack (expected 2)"
     ]
    }
   ],
   "source": [
    "x1,x2 = tupreturn(3,2,1)"
   ]
  },
  {
   "cell_type": "code",
   "execution_count": null,
   "metadata": {},
   "outputs": [],
   "source": []
  }
 ],
 "metadata": {
  "kernelspec": {
   "display_name": "Python 3",
   "language": "python",
   "name": "python3"
  },
  "language_info": {
   "codemirror_mode": {
    "name": "ipython",
    "version": 3
   },
   "file_extension": ".py",
   "mimetype": "text/x-python",
   "name": "python",
   "nbconvert_exporter": "python",
   "pygments_lexer": "ipython3",
   "version": "3.8.3"
  }
 },
 "nbformat": 4,
 "nbformat_minor": 4
}
